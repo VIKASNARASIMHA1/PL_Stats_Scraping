{
 "cells": [
  {
   "cell_type": "markdown",
   "metadata": {},
   "source": [
    "# Hatricks in Premier League"
   ]
  },
  {
   "cell_type": "code",
   "execution_count": 3,
   "metadata": {},
   "outputs": [],
   "source": [
    "import requests\n",
    "from bs4 import BeautifulSoup\n",
    "import pandas as pd\n",
    "x = requests.get('https://www.myfootballfacts.com/premier-league/all-time-premier-league/all-time-premier-league-hat-tricks/')\n",
    "parsedData = BeautifulSoup(x.text, \"html.parser\")\n",
    "container = parsedData.find(\"table\")\n",
    "conti = container.find(\"tbody\") \n",
    "data = conti.findAll(\"tr\")\n",
    "j = len(data)\n",
    "list1 = []\n",
    "list2 = []\n",
    "list3 = []\n",
    "list4 = []\n",
    "list5 = []\n",
    "list6 = []\n",
    "list7 = []\n",
    "for i in range(1,j+1):\n",
    "    data2 = (container.findAll(\"td\",{\"class\",\"dtr{} dtc1\".format(i)}))\n",
    "    data3 = (container.findAll(\"td\",{\"class\",\"dtr{} dtc2\".format(i)}))\n",
    "    data4 = (container.findAll(\"td\",{\"class\",\"dtr{} dtc3\".format(i)}))\n",
    "    data5 = (container.findAll(\"td\",{\"class\",\"dtr{} dtc4\".format(i)}))\n",
    "    data6 = (container.findAll(\"td\",{\"class\",\"dtr{} dtc5\".format(i)}))\n",
    "    data7 = (container.findAll(\"td\",{\"class\",\"dtr{} dtc6\".format(i)}))\n",
    "    for j in data2:\n",
    "        list2 += j\n",
    "    for j in data3:\n",
    "        list3 += j\n",
    "    for j in data4:\n",
    "        list4 += j\n",
    "    for j in data5:\n",
    "        list5 += j\n",
    "    for j in data6:\n",
    "        list6 += j\n",
    "    for j in data7:\n",
    "        list7 += j\n",
    "# print(len(da1),len(da2),len(da3),len(da4),len(da5),len(da6), len(da7))\n",
    "df = pd.DataFrame({'SL_Number':df.index+1,'Player':list2 , 'Nationality':list3, 'For':list4,'Against':list5, 'Result':list6, 'Date':list7}) \n",
    "df.to_csv('HatricksPL.csv', index=False, encoding='utf-8-sig')"
   ]
  }
 ],
 "metadata": {
  "kernelspec": {
   "display_name": "Python 3",
   "language": "python",
   "name": "python3"
  },
  "language_info": {
   "codemirror_mode": {
    "name": "ipython",
    "version": 3
   },
   "file_extension": ".py",
   "mimetype": "text/x-python",
   "name": "python",
   "nbconvert_exporter": "python",
   "pygments_lexer": "ipython3",
   "version": "3.12.3"
  }
 },
 "nbformat": 4,
 "nbformat_minor": 2
}
