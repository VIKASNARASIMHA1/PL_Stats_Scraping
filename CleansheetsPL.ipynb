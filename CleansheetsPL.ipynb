{
 "cells": [
  {
   "cell_type": "markdown",
   "metadata": {},
   "source": [
    "# Highest Clean Sheets each season in Premier League"
   ]
  },
  {
   "cell_type": "code",
   "execution_count": 4,
   "metadata": {},
   "outputs": [],
   "source": [
    "import requests\n",
    "from bs4 import BeautifulSoup\n",
    "import pandas as pd\n",
    "x = requests.get('https://www.myfootballfacts.com/premier-league/all-time-premier-league/most-clean-sheets-by-year-in-the-premier-league/')\n",
    "parsedData = BeautifulSoup(x.text, \"html.parser\")\n",
    "container = parsedData.find(\"table\")\n",
    "conti = container.find(\"tbody\") \n",
    "data = conti.findAll(\"tr\")\n",
    "j = len(data)\n",
    "list1 = []\n",
    "list2 = []\n",
    "list3 = []\n",
    "list4 = []\n",
    "list5 = []\n",
    "for i in range(1,j+1):\n",
    "    data1 = (container.findAll(\"td\",{\"class\",\"dtr{} dtc0\".format(i)}))\n",
    "    data2 = (container.findAll(\"td\",{\"class\",\"dtr{} dtc1\".format(i)}))\n",
    "    data3 = (container.findAll(\"td\",{\"class\",\"dtr{} dtc3\".format(i)}))\n",
    "    data4 = (container.findAll(\"td\",{\"class\",\"dtr{} dtc4\".format(i)}))\n",
    "    data5 = (container.findAll(\"td\",{\"class\",\"dtr{} dtc5\".format(i)}))\n",
    "    for j in data1:\n",
    "        list1 += j\n",
    "    for j in data2:\n",
    "        list2 += j\n",
    "    for j in data3:\n",
    "        list3 += j\n",
    "    for j in data4:\n",
    "        list4 += j\n",
    "    for j in data5:\n",
    "        list5 += j\n",
    "# for k in da1:\n",
    "#     da6 += k\n",
    "# for k in da2:\n",
    "#     da7 += k\n",
    "# print(len(da1),len(da2),len(da3),len(da4),len(da5))\n",
    "# # da4 = da4 + [None] * (len(da6) - len(da4))\n",
    "df = pd.DataFrame({'SL_Number':df.index+1,'Season':list1 , 'Goal Keeper':list2, 'Nationality':list3,'Club':list4, 'Clean Sheet':list5}) \n",
    "df.to_csv('CleanSheetsPL.csv', index=False, encoding='utf-8-sig') \n"
   ]
  }
 ],
 "metadata": {
  "kernelspec": {
   "display_name": "Python 3",
   "language": "python",
   "name": "python3"
  },
  "language_info": {
   "codemirror_mode": {
    "name": "ipython",
    "version": 3
   },
   "file_extension": ".py",
   "mimetype": "text/x-python",
   "name": "python",
   "nbconvert_exporter": "python",
   "pygments_lexer": "ipython3",
   "version": "3.12.3"
  }
 },
 "nbformat": 4,
 "nbformat_minor": 2
}
