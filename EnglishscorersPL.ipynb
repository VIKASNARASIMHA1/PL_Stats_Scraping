{
 "cells": [
  {
   "cell_type": "markdown",
   "metadata": {},
   "source": [
    "# English Scorers in Premier League"
   ]
  },
  {
   "cell_type": "code",
   "execution_count": 3,
   "metadata": {},
   "outputs": [],
   "source": [
    "import requests\n",
    "from bs4 import BeautifulSoup\n",
    "import pandas as pd\n",
    "x = requests.get('https://www.myfootballfacts.com/premier-league/all-time-premier-league/top-english-scorers-in-premier-league/')\n",
    "parsedData = BeautifulSoup(x.text, \"html.parser\")\n",
    "container = parsedData.find(\"table\")\n",
    "conti = container.find(\"tbody\") \n",
    "data = conti.findAll(\"tr\")\n",
    "j = len(data)\n",
    "list1 = []\n",
    "list2 = []\n",
    "for i in range(1,j+1):\n",
    "    data1 = (container.findAll(\"td\",{\"class\",\"dtr{} dtc1\".format(i)}))\n",
    "    data2 = (container.findAll(\"td\",{\"class\",\"dtr{} dtc2\".format(i)}))\n",
    "    for j in data1:\n",
    "        list1 += j\n",
    "    for j in data2:\n",
    "        list2 += j\n",
    "\n",
    "df = pd.DataFrame({'SL_Number': df.index + 1,'Player':list1 , 'Goals':list2}) \n",
    "\n",
    "df.to_csv('EnglishscorersPL.csv', encoding='utf-8-sig', index = False)"
   ]
  }
 ],
 "metadata": {
  "kernelspec": {
   "display_name": "Python 3",
   "language": "python",
   "name": "python3"
  },
  "language_info": {
   "codemirror_mode": {
    "name": "ipython",
    "version": 3
   },
   "file_extension": ".py",
   "mimetype": "text/x-python",
   "name": "python",
   "nbconvert_exporter": "python",
   "pygments_lexer": "ipython3",
   "version": "3.12.3"
  }
 },
 "nbformat": 4,
 "nbformat_minor": 2
}
