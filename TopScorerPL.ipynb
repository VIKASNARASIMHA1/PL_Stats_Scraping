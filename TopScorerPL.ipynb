{
 "cells": [
  {
   "cell_type": "markdown",
   "metadata": {},
   "source": [
    "# Top Scorer in Premier League - All Time"
   ]
  },
  {
   "cell_type": "code",
   "execution_count": 5,
   "metadata": {},
   "outputs": [],
   "source": [
    "import requests\n",
    "from bs4 import BeautifulSoup\n",
    "import pandas as pd\n",
    "x = requests.get('https://www.myfootballfacts.com/premier-league/all-time-premier-league/premier-league-top-100-goalscorers/')\n",
    "parsedData = BeautifulSoup(x.text, \"html.parser\")\n",
    "container = parsedData.find(\"table\")\n",
    "list1 = []\n",
    "list2 = []\n",
    "for i in range(101):\n",
    "    data1 = container.findAll(\"td\",{\"class\",\"dtr{} dtc2\".format(i)})\n",
    "    for j in data1:\n",
    "        list1 += j\n",
    "for i in range(101):\n",
    "    data2 = container.findAll(\"td\",{\"class\",\"dtr{} dtc4\".format(i)})\n",
    "    for j in data2:\n",
    "        list2 += j\n",
    "cleaned_data1 = [item.replace('\\xa0', '').strip() for item in list1]\n",
    "cleaned_data2 = [item.replace('\\xa0', '').strip() for item in list2]\n",
    "df = pd.DataFrame({'SL_Number': df.index+1,'Player':cleaned_data1 , 'Goals':cleaned_data2}) \n",
    "df.to_csv('TopScorerPL.csv', index=False, encoding='utf-8-sig')      "
   ]
  }
 ],
 "metadata": {
  "kernelspec": {
   "display_name": "Python 3",
   "language": "python",
   "name": "python3"
  },
  "language_info": {
   "codemirror_mode": {
    "name": "ipython",
    "version": 3
   },
   "file_extension": ".py",
   "mimetype": "text/x-python",
   "name": "python",
   "nbconvert_exporter": "python",
   "pygments_lexer": "ipython3",
   "version": "3.12.3"
  }
 },
 "nbformat": 4,
 "nbformat_minor": 2
}
